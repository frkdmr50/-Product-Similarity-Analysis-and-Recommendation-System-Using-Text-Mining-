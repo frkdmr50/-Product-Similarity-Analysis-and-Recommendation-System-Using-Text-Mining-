{
  "cells": [
    {
      "cell_type": "code",
      "execution_count": 1,
      "metadata": {
        "id": "SBRTm41O_UzG"
      },
      "outputs": [],
      "source": [
        "import os\n",
        "import ast\n",
        "import re\n",
        "import random\n",
        "import numpy as np\n",
        "import pandas as pd\n",
        "import matplotlib.pyplot as plt\n",
        "from sklearn.feature_extraction.text import TfidfVectorizer\n",
        "from sklearn.metrics.pairwise import cosine_similarity"
      ]
    },
    {
      "cell_type": "code",
      "execution_count": 2,
      "metadata": {
        "id": "qXcmrDUb_bHu"
      },
      "outputs": [],
      "source": [
        "# Veri dosyaları\n",
        "file_paths = {\n",
        "    \"All_Beauty\": \"/content/drive/MyDrive/Colab_Notebooks/aws/meta_All_Beauty.jsonl\",\n",
        "    \"Digital_Music\": \"/content/drive/MyDrive/Colab_Notebooks/aws/meta_Digital_Music.jsonl\",\n",
        "    \"Health_and_Personal_Care\": \"/content/drive/MyDrive/Colab_Notebooks/aws/meta_Health_and_Personal_Care.jsonl\",\n",
        "}"
      ]
    },
    {
      "cell_type": "code",
      "execution_count": 3,
      "metadata": {
        "colab": {
          "base_uri": "https://localhost:8080/"
        },
        "id": "7SB0FPUq_bEq",
        "outputId": "40c9defe-c34c-479f-949d-bb2729617cee"
      },
      "outputs": [
        {
          "name": "stdout",
          "output_type": "stream",
          "text": [
            "<class 'pandas.core.frame.DataFrame'>\n",
            "RangeIndex: 243420 entries, 0 to 243419\n",
            "Data columns (total 14 columns):\n",
            " #   Column           Non-Null Count   Dtype  \n",
            "---  ------           --------------   -----  \n",
            " 0   main_category    243420 non-null  object \n",
            " 1   title            243420 non-null  object \n",
            " 2   average_rating   243420 non-null  float64\n",
            " 3   rating_number    243420 non-null  int64  \n",
            " 4   features         243420 non-null  object \n",
            " 5   description      243420 non-null  object \n",
            " 6   price            68365 non-null   float64\n",
            " 7   images           243420 non-null  object \n",
            " 8   videos           243420 non-null  object \n",
            " 9   store            225505 non-null  object \n",
            " 10  categories       243420 non-null  object \n",
            " 11  details          243420 non-null  object \n",
            " 12  parent_asin      243420 non-null  object \n",
            " 13  bought_together  0 non-null       float64\n",
            "dtypes: float64(3), int64(1), object(10)\n",
            "memory usage: 26.0+ MB\n"
          ]
        }
      ],
      "source": [
        "df = None\n",
        "\n",
        "for category_name, file_path in file_paths.items():\n",
        "    if not os.path.exists(file_path):\n",
        "        print(f\"Dosya bulunamadı: {file_path}\")\n",
        "        continue\n",
        "\n",
        "    # JSONL formatında okuma\n",
        "    tempdf = pd.read_json(file_path, lines=True)\n",
        "\n",
        "    # İlk DataFrame yoksa direkt ata, varsa birleştir\n",
        "    if df is None:\n",
        "        df = tempdf\n",
        "    else:\n",
        "        df = pd.concat([df, tempdf], ignore_index=True)\n",
        "\n",
        "\n",
        "df.info()\n",
        "titles = df[\"title\"]\n",
        "details = df[\"details\"]\n",
        "\n",
        "titles.to_csv(\"/content/drive/MyDrive/Colab_Notebooks/aws/titles.csv\", index=False)\n",
        "details.to_csv(\"/content/drive/MyDrive/Colab_Notebooks/aws/details.csv\", index=False)\n"
      ]
    },
    {
      "cell_type": "code",
      "execution_count": 4,
      "metadata": {
        "colab": {
          "base_uri": "https://localhost:8080/"
        },
        "id": "TvII4csX_a7M",
        "outputId": "6eaebd78-bd1f-452c-c827-d5ed62eb0e92"
      },
      "outputs": [
        {
          "data": {
            "text/plain": [
              "243421"
            ]
          },
          "execution_count": 4,
          "metadata": {},
          "output_type": "execute_result"
        }
      ],
      "source": [
        "df_titles = pd.read_csv(\"/content/drive/MyDrive/Colab_Notebooks/aws/titles.csv\", header=None, names=[\"title\"])\n",
        "df_details = pd.read_csv(\"/content/drive/MyDrive/Colab_Notebooks/aws/details.csv\", header=None, names=[\"details\"])\n",
        "\n",
        "df = pd.concat([df_titles, df_details], axis=1)\n",
        "len(df)\n",
        "\n",
        "\n",
        "\n"
      ]
    },
    {
      "cell_type": "code",
      "execution_count": 5,
      "metadata": {
        "colab": {
          "base_uri": "https://localhost:8080/"
        },
        "id": "5MGvCX9w_aiX",
        "outputId": "1c00e760-ff7f-4fe9-bfcf-e539bd822ddc"
      },
      "outputs": [
        {
          "name": "stdout",
          "output_type": "stream",
          "text": [
            "Örneklem (sampling) sonrası satır sayısı: 14000\n"
          ]
        }
      ],
      "source": [
        "# #sampling\n",
        "df = df.sample(n=14000, random_state=42)\n",
        "df = df.reset_index(drop=True)\n",
        "print(\"Örneklem (sampling) sonrası satır sayısı:\", len(df))"
      ]
    },
    {
      "cell_type": "code",
      "execution_count": 6,
      "metadata": {
        "colab": {
          "base_uri": "https://localhost:8080/",
          "height": 241
        },
        "id": "kAiLP_k9AYqS",
        "outputId": "900ce195-fa11-4a00-9d7d-8af5b18bc681"
      },
      "outputs": [
        {
          "data": {
            "text/html": [
              "<div>\n",
              "<style scoped>\n",
              "    .dataframe tbody tr th:only-of-type {\n",
              "        vertical-align: middle;\n",
              "    }\n",
              "\n",
              "    .dataframe tbody tr th {\n",
              "        vertical-align: top;\n",
              "    }\n",
              "\n",
              "    .dataframe thead th {\n",
              "        text-align: right;\n",
              "    }\n",
              "</style>\n",
              "<table border=\"1\" class=\"dataframe\">\n",
              "  <thead>\n",
              "    <tr style=\"text-align: right;\">\n",
              "      <th></th>\n",
              "      <th>details_dict</th>\n",
              "    </tr>\n",
              "  </thead>\n",
              "  <tbody>\n",
              "    <tr>\n",
              "      <th>0</th>\n",
              "      <td>{'Material': 'Acrylic', 'Brand': 'COSICS', 'St...</td>\n",
              "    </tr>\n",
              "    <tr>\n",
              "      <th>1</th>\n",
              "      <td>{'Color': 'Black', 'Brand': 'Calphdiar', 'Mate...</td>\n",
              "    </tr>\n",
              "    <tr>\n",
              "      <th>2</th>\n",
              "      <td>{'Brand': 'BSTHP', 'Material': 'Plastic', 'Cap...</td>\n",
              "    </tr>\n",
              "    <tr>\n",
              "      <th>3</th>\n",
              "      <td>{'Package Dimensions': '14.5 x 14 x 4.9 inches...</td>\n",
              "    </tr>\n",
              "    <tr>\n",
              "      <th>4</th>\n",
              "      <td>{'Brand': 'WNAGPOPO', 'Shape': 'Oblong', 'Unit...</td>\n",
              "    </tr>\n",
              "  </tbody>\n",
              "</table>\n",
              "</div><br><label><b>dtype:</b> object</label>"
            ],
            "text/plain": [
              "0    {'Material': 'Acrylic', 'Brand': 'COSICS', 'St...\n",
              "1    {'Color': 'Black', 'Brand': 'Calphdiar', 'Mate...\n",
              "2    {'Brand': 'BSTHP', 'Material': 'Plastic', 'Cap...\n",
              "3    {'Package Dimensions': '14.5 x 14 x 4.9 inches...\n",
              "4    {'Brand': 'WNAGPOPO', 'Shape': 'Oblong', 'Unit...\n",
              "Name: details_dict, dtype: object"
            ]
          },
          "execution_count": 6,
          "metadata": {},
          "output_type": "execute_result"
        }
      ],
      "source": [
        "#details Kolonunu Sözlüğe Parse Etme\n",
        "def parse_details(row):\n",
        "    try:\n",
        "        parsed = ast.literal_eval(row)\n",
        "        if isinstance(parsed, dict):\n",
        "            return parsed\n",
        "        else:\n",
        "            return {}\n",
        "    except:\n",
        "        return {}\n",
        "\n",
        "df[\"details_dict\"] = df[\"details\"].fillna(\"\").apply(parse_details)\n",
        "df[\"details_dict\"].head()"
      ]
    },
    {
      "cell_type": "code",
      "execution_count": 7,
      "metadata": {
        "colab": {
          "base_uri": "https://localhost:8080/",
          "height": 241
        },
        "id": "wmeTi-HrAyr-",
        "outputId": "17e6e8cc-89ab-4820-c31f-4f9198564bdc"
      },
      "outputs": [
        {
          "data": {
            "text/html": [
              "<div>\n",
              "<style scoped>\n",
              "    .dataframe tbody tr th:only-of-type {\n",
              "        vertical-align: middle;\n",
              "    }\n",
              "\n",
              "    .dataframe tbody tr th {\n",
              "        vertical-align: top;\n",
              "    }\n",
              "\n",
              "    .dataframe thead th {\n",
              "        text-align: right;\n",
              "    }\n",
              "</style>\n",
              "<table border=\"1\" class=\"dataframe\">\n",
              "  <thead>\n",
              "    <tr style=\"text-align: right;\">\n",
              "      <th></th>\n",
              "      <th>parsed_details</th>\n",
              "    </tr>\n",
              "  </thead>\n",
              "  <tbody>\n",
              "    <tr>\n",
              "      <th>0</th>\n",
              "      <td>brand COSICS material Acrylic</td>\n",
              "    </tr>\n",
              "    <tr>\n",
              "      <th>1</th>\n",
              "      <td>brand Calphdiar color Black material Cotton,Sy...</td>\n",
              "    </tr>\n",
              "    <tr>\n",
              "      <th>2</th>\n",
              "      <td>brand BSTHP material Plastic</td>\n",
              "    </tr>\n",
              "    <tr>\n",
              "      <th>3</th>\n",
              "      <td></td>\n",
              "    </tr>\n",
              "    <tr>\n",
              "      <th>4</th>\n",
              "      <td>brand WNAGPOPO</td>\n",
              "    </tr>\n",
              "  </tbody>\n",
              "</table>\n",
              "</div><br><label><b>dtype:</b> object</label>"
            ],
            "text/plain": [
              "0                        brand COSICS material Acrylic\n",
              "1    brand Calphdiar color Black material Cotton,Sy...\n",
              "2                         brand BSTHP material Plastic\n",
              "3                                                     \n",
              "4                                       brand WNAGPOPO\n",
              "Name: parsed_details, dtype: object"
            ]
          },
          "execution_count": 7,
          "metadata": {},
          "output_type": "execute_result"
        }
      ],
      "source": [
        "def details_to_text(details_dict):\n",
        "  #Seçilmiş Bilgileri Metinleştirme brand, color, material\n",
        "    brand = details_dict.get(\"Brand\", \"\")\n",
        "    color = details_dict.get(\"Color\", \"\")\n",
        "    material = details_dict.get(\"Material\", \"\")\n",
        "\n",
        "    text_parts = []\n",
        "    if brand:\n",
        "        text_parts.append(f\"brand {brand}\")\n",
        "    if color:\n",
        "        text_parts.append(f\"color {color}\")\n",
        "    if material:\n",
        "        text_parts.append(f\"material {material}\")\n",
        "\n",
        "    return \" \".join(text_parts).strip()\n",
        "\n",
        "df[\"parsed_details\"] = df[\"details_dict\"].apply(details_to_text)\n",
        "df[\"parsed_details\"].head()"
      ]
    },
    {
      "cell_type": "code",
      "execution_count": 8,
      "metadata": {
        "colab": {
          "base_uri": "https://localhost:8080/",
          "height": 241
        },
        "id": "kQsbkmgYAypM",
        "outputId": "93ce77d5-e881-49b5-9ce5-af87f522d811"
      },
      "outputs": [
        {
          "data": {
            "text/html": [
              "<div>\n",
              "<style scoped>\n",
              "    .dataframe tbody tr th:only-of-type {\n",
              "        vertical-align: middle;\n",
              "    }\n",
              "\n",
              "    .dataframe tbody tr th {\n",
              "        vertical-align: top;\n",
              "    }\n",
              "\n",
              "    .dataframe thead th {\n",
              "        text-align: right;\n",
              "    }\n",
              "</style>\n",
              "<table border=\"1\" class=\"dataframe\">\n",
              "  <thead>\n",
              "    <tr style=\"text-align: right;\">\n",
              "      <th></th>\n",
              "      <th>cleaned_text</th>\n",
              "    </tr>\n",
              "  </thead>\n",
              "  <tbody>\n",
              "    <tr>\n",
              "      <th>0</th>\n",
              "      <td>new short almond shaped nails 200pcs cosics st...</td>\n",
              "    </tr>\n",
              "    <tr>\n",
              "      <th>1</th>\n",
              "      <td>calphdiar 20 pairs false eyelashes 16mm19mm mi...</td>\n",
              "    </tr>\n",
              "    <tr>\n",
              "      <th>2</th>\n",
              "      <td>travel bottles 30ml empty transparent atomiser...</td>\n",
              "    </tr>\n",
              "    <tr>\n",
              "      <th>3</th>\n",
              "      <td>6in1 nail lamp nail dust collector vacuum clea...</td>\n",
              "    </tr>\n",
              "    <tr>\n",
              "      <th>4</th>\n",
              "      <td>dog and cat deshedding tool helps stop and red...</td>\n",
              "    </tr>\n",
              "  </tbody>\n",
              "</table>\n",
              "</div><br><label><b>dtype:</b> object</label>"
            ],
            "text/plain": [
              "0    new short almond shaped nails 200pcs cosics st...\n",
              "1    calphdiar 20 pairs false eyelashes 16mm19mm mi...\n",
              "2    travel bottles 30ml empty transparent atomiser...\n",
              "3    6in1 nail lamp nail dust collector vacuum clea...\n",
              "4    dog and cat deshedding tool helps stop and red...\n",
              "Name: cleaned_text, dtype: object"
            ]
          },
          "execution_count": 8,
          "metadata": {},
          "output_type": "execute_result"
        }
      ],
      "source": [
        "def clean_text(text):\n",
        "    \"\"\"\n",
        "    Küçük bir regex temizliği:\n",
        "    - Noktalama işaretlerini kaldırma\n",
        "    - Küçük harfe dönüştürme\n",
        "    - Çoklu boşlukları tek boşluğa indirme\n",
        "    \"\"\"\n",
        "    text = re.sub(r\"[^\\w\\s]\", \"\", text)\n",
        "    text = text.lower()\n",
        "    text = re.sub(r\"\\s+\", \" \", text)\n",
        "    return text.strip()\n",
        "\n",
        "\n",
        "df[\"combined_text\"] = df[\"title\"].fillna(\"\") + \" \" + df[\"parsed_details\"].fillna(\"\")\n",
        "df[\"cleaned_text\"] = df[\"combined_text\"].apply(clean_text)\n",
        "df[\"cleaned_text\"].head()"
      ]
    },
    {
      "cell_type": "code",
      "execution_count": 9,
      "metadata": {
        "colab": {
          "base_uri": "https://localhost:8080/"
        },
        "id": "1mfBQOSnAynX",
        "outputId": "2aa6879a-e31b-4f91-890b-8bf587647416"
      },
      "outputs": [
        {
          "data": {
            "text/plain": [
              "(14000, 10000)"
            ]
          },
          "execution_count": 9,
          "metadata": {},
          "output_type": "execute_result"
        }
      ],
      "source": [
        "vectorizer = TfidfVectorizer(\n",
        "    stop_words=\"english\",   # İngilizce stop words\n",
        "    max_features=10000,     # Daha geniş kelime dağarcığı\n",
        "    min_df=2,               # Nadiren kullanılan kelimeleri atmak için\n",
        "    max_df=0.8,             # Çok yaygın kelimeleri atmak için\n",
        "    ngram_range=(1, 2)      # Unigram + Bigram\n",
        ")\n",
        "\n",
        "tfidf_matrix = vectorizer.fit_transform(df[\"cleaned_text\"])\n",
        "tfidf_matrix.shape"
      ]
    },
    {
      "cell_type": "code",
      "execution_count": 10,
      "metadata": {
        "colab": {
          "base_uri": "https://localhost:8080/"
        },
        "id": "Z8yy6d1AAykL",
        "outputId": "165fb5fb-d041-4b28-b032-fd7fd0fca47e"
      },
      "outputs": [
        {
          "data": {
            "text/plain": [
              "(14000, 14000)"
            ]
          },
          "execution_count": 10,
          "metadata": {},
          "output_type": "execute_result"
        }
      ],
      "source": [
        "similarity_matrix = cosine_similarity(tfidf_matrix)\n",
        "similarity_matrix.shape"
      ]
    },
    {
      "cell_type": "code",
      "execution_count": 11,
      "metadata": {
        "id": "Zwgx-bdqBZ_N"
      },
      "outputs": [],
      "source": [
        "def get_recommendations(product_index, top_n=5):\n",
        "\n",
        "    sim_scores = list(enumerate(similarity_matrix[product_index]))\n",
        "    # Skorları büyükten küçüğe sıralıyoruz\n",
        "    sim_scores = sorted(sim_scores, key=lambda x: x[1], reverse=True)\n",
        "\n",
        "    # İlk  top_n+1 alıyoruz\n",
        "    top_indices = [idx for (idx, score) in sim_scores[1 : top_n + 1]]\n",
        "    top_scores  = [score for (idx, score) in sim_scores[1 : top_n + 1]]\n",
        "\n",
        "    results = df.iloc[top_indices].copy()\n",
        "    results[\"similarity_score\"] = top_scores\n",
        "    return results[[\"title\", \"details\", \"similarity_score\"]]"
      ]
    },
    {
      "cell_type": "code",
      "execution_count": 12,
      "metadata": {
        "id": "SNiMQEIyBZ7A"
      },
      "outputs": [],
      "source": [
        "product_idx = 5\n",
        "top_n = 5\n",
        "recommended = get_recommendations(product_idx, top_n)"
      ]
    },
    {
      "cell_type": "code",
      "execution_count": 13,
      "metadata": {
        "colab": {
          "base_uri": "https://localhost:8080/",
          "height": 147
        },
        "id": "8w2aVMraBZ1X",
        "outputId": "a0d1a108-88af-4981-eb62-0935aa65747d"
      },
      "outputs": [
        {
          "data": {
            "text/html": [
              "<div>\n",
              "<style scoped>\n",
              "    .dataframe tbody tr th:only-of-type {\n",
              "        vertical-align: middle;\n",
              "    }\n",
              "\n",
              "    .dataframe tbody tr th {\n",
              "        vertical-align: top;\n",
              "    }\n",
              "\n",
              "    .dataframe thead th {\n",
              "        text-align: right;\n",
              "    }\n",
              "</style>\n",
              "<table border=\"1\" class=\"dataframe\">\n",
              "  <thead>\n",
              "    <tr style=\"text-align: right;\">\n",
              "      <th></th>\n",
              "      <th>5</th>\n",
              "    </tr>\n",
              "  </thead>\n",
              "  <tbody>\n",
              "    <tr>\n",
              "      <th>title</th>\n",
              "      <td>Makeup Remover Pads, 14 Pack Reusable Bamboo S...</td>\n",
              "    </tr>\n",
              "    <tr>\n",
              "      <th>details</th>\n",
              "      <td>{'Brand': 'Unknown', 'Material': 'Bamboo', 'Sh...</td>\n",
              "    </tr>\n",
              "  </tbody>\n",
              "</table>\n",
              "</div><br><label><b>dtype:</b> object</label>"
            ],
            "text/plain": [
              "title      Makeup Remover Pads, 14 Pack Reusable Bamboo S...\n",
              "details    {'Brand': 'Unknown', 'Material': 'Bamboo', 'Sh...\n",
              "Name: 5, dtype: object"
            ]
          },
          "execution_count": 13,
          "metadata": {},
          "output_type": "execute_result"
        }
      ],
      "source": [
        "df.iloc[product_idx][[\"title\", \"details\"]]"
      ]
    },
    {
      "cell_type": "code",
      "execution_count": 14,
      "metadata": {
        "colab": {
          "base_uri": "https://localhost:8080/",
          "height": 206
        },
        "id": "e7vwJIyCB_HA",
        "outputId": "68db6e04-4a6d-4bb9-e85c-b9b82e36cd3e"
      },
      "outputs": [
        {
          "data": {
            "application/vnd.google.colaboratory.intrinsic+json": {
              "summary": "{\n  \"name\": \"recommended\",\n  \"rows\": 5,\n  \"fields\": [\n    {\n      \"column\": \"title\",\n      \"properties\": {\n        \"dtype\": \"string\",\n        \"num_unique_values\": 5,\n        \"samples\": [\n          \"20 PCS Reusable Makeup Remover Pads, Soft Washable Bamboo Cotton Face Cleansing Pads with Laundry Bag Eco-friendly for All Skin Types\",\n          \"Andrea Eye Q's Moisturizing Eye Make-up Remover Pads\",\n          \"Asenappy Reusable Makeup Remover Pads| 16 Pack with Laundry Bag | Bamboo Cotton | Eco-friendly | Waste Free | Luxury (bamboo cotton)\"\n        ],\n        \"semantic_type\": \"\",\n        \"description\": \"\"\n      }\n    },\n    {\n      \"column\": \"details\",\n      \"properties\": {\n        \"dtype\": \"string\",\n        \"num_unique_values\": 5,\n        \"samples\": [\n          \"{'Brand': 'Senders', 'Material': 'Cotton', 'Shape': 'Round', 'Material Feature': 'Reusable', 'Package Dimensions': '6.85 x 4.13 x 1.77 inches; 1.45 Ounces'}\",\n          \"{'Product Dimensions': '4 x 2 x 1 inches; 2.89 Ounces', 'Item model number': 'AN65-1pk', 'UPC': '755332044658', 'Manufacturer': 'Andrea'}\",\n          \"{'Is Discontinued By Manufacturer': 'No', 'Product Dimensions': '3.15 x 3.15 x 0.08 inches; 2.4 Ounces', 'Date First Available': 'December 19, 2019'}\"\n        ],\n        \"semantic_type\": \"\",\n        \"description\": \"\"\n      }\n    },\n    {\n      \"column\": \"similarity_score\",\n      \"properties\": {\n        \"dtype\": \"number\",\n        \"std\": 0.08617340680516364,\n        \"min\": 0.3087433384927754,\n        \"max\": 0.49505643744943373,\n        \"num_unique_values\": 5,\n        \"samples\": [\n          0.48334177665186084,\n          0.3087433384927754,\n          0.4178795169521362\n        ],\n        \"semantic_type\": \"\",\n        \"description\": \"\"\n      }\n    }\n  ]\n}",
              "type": "dataframe",
              "variable_name": "recommended"
            },
            "text/html": [
              "\n",
              "  <div id=\"df-19f1225f-60ae-476b-9e14-280d5b6a6edb\" class=\"colab-df-container\">\n",
              "    <div>\n",
              "<style scoped>\n",
              "    .dataframe tbody tr th:only-of-type {\n",
              "        vertical-align: middle;\n",
              "    }\n",
              "\n",
              "    .dataframe tbody tr th {\n",
              "        vertical-align: top;\n",
              "    }\n",
              "\n",
              "    .dataframe thead th {\n",
              "        text-align: right;\n",
              "    }\n",
              "</style>\n",
              "<table border=\"1\" class=\"dataframe\">\n",
              "  <thead>\n",
              "    <tr style=\"text-align: right;\">\n",
              "      <th></th>\n",
              "      <th>title</th>\n",
              "      <th>details</th>\n",
              "      <th>similarity_score</th>\n",
              "    </tr>\n",
              "  </thead>\n",
              "  <tbody>\n",
              "    <tr>\n",
              "      <th>5737</th>\n",
              "      <td>Makeup Remover Pads Reusable, Voerou 12 Pack B...</td>\n",
              "      <td>{'Brand': 'Voerou', 'Material Feature': 'Reusa...</td>\n",
              "      <td>0.495056</td>\n",
              "    </tr>\n",
              "    <tr>\n",
              "      <th>10157</th>\n",
              "      <td>20 PCS Reusable Makeup Remover Pads, Soft Wash...</td>\n",
              "      <td>{'Brand': 'Senders', 'Material': 'Cotton', 'Sh...</td>\n",
              "      <td>0.483342</td>\n",
              "    </tr>\n",
              "    <tr>\n",
              "      <th>12698</th>\n",
              "      <td>Asenappy Reusable Makeup Remover Pads| 16 Pack...</td>\n",
              "      <td>{'Is Discontinued By Manufacturer': 'No', 'Pro...</td>\n",
              "      <td>0.417880</td>\n",
              "    </tr>\n",
              "    <tr>\n",
              "      <th>3165</th>\n",
              "      <td>HOPOSO Reusable Cotton Pads Face Zero Waste 12...</td>\n",
              "      <td>{'Brand': 'HOPOSO', 'Material': 'Cotton', 'Sha...</td>\n",
              "      <td>0.327312</td>\n",
              "    </tr>\n",
              "    <tr>\n",
              "      <th>9865</th>\n",
              "      <td>Andrea Eye Q's Moisturizing Eye Make-up Remove...</td>\n",
              "      <td>{'Product Dimensions': '4 x 2 x 1 inches; 2.89...</td>\n",
              "      <td>0.308743</td>\n",
              "    </tr>\n",
              "  </tbody>\n",
              "</table>\n",
              "</div>\n",
              "    <div class=\"colab-df-buttons\">\n",
              "\n",
              "  <div class=\"colab-df-container\">\n",
              "    <button class=\"colab-df-convert\" onclick=\"convertToInteractive('df-19f1225f-60ae-476b-9e14-280d5b6a6edb')\"\n",
              "            title=\"Convert this dataframe to an interactive table.\"\n",
              "            style=\"display:none;\">\n",
              "\n",
              "  <svg xmlns=\"http://www.w3.org/2000/svg\" height=\"24px\" viewBox=\"0 -960 960 960\">\n",
              "    <path d=\"M120-120v-720h720v720H120Zm60-500h600v-160H180v160Zm220 220h160v-160H400v160Zm0 220h160v-160H400v160ZM180-400h160v-160H180v160Zm440 0h160v-160H620v160ZM180-180h160v-160H180v160Zm440 0h160v-160H620v160Z\"/>\n",
              "  </svg>\n",
              "    </button>\n",
              "\n",
              "  <style>\n",
              "    .colab-df-container {\n",
              "      display:flex;\n",
              "      gap: 12px;\n",
              "    }\n",
              "\n",
              "    .colab-df-convert {\n",
              "      background-color: #E8F0FE;\n",
              "      border: none;\n",
              "      border-radius: 50%;\n",
              "      cursor: pointer;\n",
              "      display: none;\n",
              "      fill: #1967D2;\n",
              "      height: 32px;\n",
              "      padding: 0 0 0 0;\n",
              "      width: 32px;\n",
              "    }\n",
              "\n",
              "    .colab-df-convert:hover {\n",
              "      background-color: #E2EBFA;\n",
              "      box-shadow: 0px 1px 2px rgba(60, 64, 67, 0.3), 0px 1px 3px 1px rgba(60, 64, 67, 0.15);\n",
              "      fill: #174EA6;\n",
              "    }\n",
              "\n",
              "    .colab-df-buttons div {\n",
              "      margin-bottom: 4px;\n",
              "    }\n",
              "\n",
              "    [theme=dark] .colab-df-convert {\n",
              "      background-color: #3B4455;\n",
              "      fill: #D2E3FC;\n",
              "    }\n",
              "\n",
              "    [theme=dark] .colab-df-convert:hover {\n",
              "      background-color: #434B5C;\n",
              "      box-shadow: 0px 1px 3px 1px rgba(0, 0, 0, 0.15);\n",
              "      filter: drop-shadow(0px 1px 2px rgba(0, 0, 0, 0.3));\n",
              "      fill: #FFFFFF;\n",
              "    }\n",
              "  </style>\n",
              "\n",
              "    <script>\n",
              "      const buttonEl =\n",
              "        document.querySelector('#df-19f1225f-60ae-476b-9e14-280d5b6a6edb button.colab-df-convert');\n",
              "      buttonEl.style.display =\n",
              "        google.colab.kernel.accessAllowed ? 'block' : 'none';\n",
              "\n",
              "      async function convertToInteractive(key) {\n",
              "        const element = document.querySelector('#df-19f1225f-60ae-476b-9e14-280d5b6a6edb');\n",
              "        const dataTable =\n",
              "          await google.colab.kernel.invokeFunction('convertToInteractive',\n",
              "                                                    [key], {});\n",
              "        if (!dataTable) return;\n",
              "\n",
              "        const docLinkHtml = 'Like what you see? Visit the ' +\n",
              "          '<a target=\"_blank\" href=https://colab.research.google.com/notebooks/data_table.ipynb>data table notebook</a>'\n",
              "          + ' to learn more about interactive tables.';\n",
              "        element.innerHTML = '';\n",
              "        dataTable['output_type'] = 'display_data';\n",
              "        await google.colab.output.renderOutput(dataTable, element);\n",
              "        const docLink = document.createElement('div');\n",
              "        docLink.innerHTML = docLinkHtml;\n",
              "        element.appendChild(docLink);\n",
              "      }\n",
              "    </script>\n",
              "  </div>\n",
              "\n",
              "\n",
              "<div id=\"df-c7c4345b-784b-4302-b5fe-2c16eee3aafd\">\n",
              "  <button class=\"colab-df-quickchart\" onclick=\"quickchart('df-c7c4345b-784b-4302-b5fe-2c16eee3aafd')\"\n",
              "            title=\"Suggest charts\"\n",
              "            style=\"display:none;\">\n",
              "\n",
              "<svg xmlns=\"http://www.w3.org/2000/svg\" height=\"24px\"viewBox=\"0 0 24 24\"\n",
              "     width=\"24px\">\n",
              "    <g>\n",
              "        <path d=\"M19 3H5c-1.1 0-2 .9-2 2v14c0 1.1.9 2 2 2h14c1.1 0 2-.9 2-2V5c0-1.1-.9-2-2-2zM9 17H7v-7h2v7zm4 0h-2V7h2v10zm4 0h-2v-4h2v4z\"/>\n",
              "    </g>\n",
              "</svg>\n",
              "  </button>\n",
              "\n",
              "<style>\n",
              "  .colab-df-quickchart {\n",
              "      --bg-color: #E8F0FE;\n",
              "      --fill-color: #1967D2;\n",
              "      --hover-bg-color: #E2EBFA;\n",
              "      --hover-fill-color: #174EA6;\n",
              "      --disabled-fill-color: #AAA;\n",
              "      --disabled-bg-color: #DDD;\n",
              "  }\n",
              "\n",
              "  [theme=dark] .colab-df-quickchart {\n",
              "      --bg-color: #3B4455;\n",
              "      --fill-color: #D2E3FC;\n",
              "      --hover-bg-color: #434B5C;\n",
              "      --hover-fill-color: #FFFFFF;\n",
              "      --disabled-bg-color: #3B4455;\n",
              "      --disabled-fill-color: #666;\n",
              "  }\n",
              "\n",
              "  .colab-df-quickchart {\n",
              "    background-color: var(--bg-color);\n",
              "    border: none;\n",
              "    border-radius: 50%;\n",
              "    cursor: pointer;\n",
              "    display: none;\n",
              "    fill: var(--fill-color);\n",
              "    height: 32px;\n",
              "    padding: 0;\n",
              "    width: 32px;\n",
              "  }\n",
              "\n",
              "  .colab-df-quickchart:hover {\n",
              "    background-color: var(--hover-bg-color);\n",
              "    box-shadow: 0 1px 2px rgba(60, 64, 67, 0.3), 0 1px 3px 1px rgba(60, 64, 67, 0.15);\n",
              "    fill: var(--button-hover-fill-color);\n",
              "  }\n",
              "\n",
              "  .colab-df-quickchart-complete:disabled,\n",
              "  .colab-df-quickchart-complete:disabled:hover {\n",
              "    background-color: var(--disabled-bg-color);\n",
              "    fill: var(--disabled-fill-color);\n",
              "    box-shadow: none;\n",
              "  }\n",
              "\n",
              "  .colab-df-spinner {\n",
              "    border: 2px solid var(--fill-color);\n",
              "    border-color: transparent;\n",
              "    border-bottom-color: var(--fill-color);\n",
              "    animation:\n",
              "      spin 1s steps(1) infinite;\n",
              "  }\n",
              "\n",
              "  @keyframes spin {\n",
              "    0% {\n",
              "      border-color: transparent;\n",
              "      border-bottom-color: var(--fill-color);\n",
              "      border-left-color: var(--fill-color);\n",
              "    }\n",
              "    20% {\n",
              "      border-color: transparent;\n",
              "      border-left-color: var(--fill-color);\n",
              "      border-top-color: var(--fill-color);\n",
              "    }\n",
              "    30% {\n",
              "      border-color: transparent;\n",
              "      border-left-color: var(--fill-color);\n",
              "      border-top-color: var(--fill-color);\n",
              "      border-right-color: var(--fill-color);\n",
              "    }\n",
              "    40% {\n",
              "      border-color: transparent;\n",
              "      border-right-color: var(--fill-color);\n",
              "      border-top-color: var(--fill-color);\n",
              "    }\n",
              "    60% {\n",
              "      border-color: transparent;\n",
              "      border-right-color: var(--fill-color);\n",
              "    }\n",
              "    80% {\n",
              "      border-color: transparent;\n",
              "      border-right-color: var(--fill-color);\n",
              "      border-bottom-color: var(--fill-color);\n",
              "    }\n",
              "    90% {\n",
              "      border-color: transparent;\n",
              "      border-bottom-color: var(--fill-color);\n",
              "    }\n",
              "  }\n",
              "</style>\n",
              "\n",
              "  <script>\n",
              "    async function quickchart(key) {\n",
              "      const quickchartButtonEl =\n",
              "        document.querySelector('#' + key + ' button');\n",
              "      quickchartButtonEl.disabled = true;  // To prevent multiple clicks.\n",
              "      quickchartButtonEl.classList.add('colab-df-spinner');\n",
              "      try {\n",
              "        const charts = await google.colab.kernel.invokeFunction(\n",
              "            'suggestCharts', [key], {});\n",
              "      } catch (error) {\n",
              "        console.error('Error during call to suggestCharts:', error);\n",
              "      }\n",
              "      quickchartButtonEl.classList.remove('colab-df-spinner');\n",
              "      quickchartButtonEl.classList.add('colab-df-quickchart-complete');\n",
              "    }\n",
              "    (() => {\n",
              "      let quickchartButtonEl =\n",
              "        document.querySelector('#df-c7c4345b-784b-4302-b5fe-2c16eee3aafd button');\n",
              "      quickchartButtonEl.style.display =\n",
              "        google.colab.kernel.accessAllowed ? 'block' : 'none';\n",
              "    })();\n",
              "  </script>\n",
              "</div>\n",
              "\n",
              "    </div>\n",
              "  </div>\n"
            ],
            "text/plain": [
              "                                                   title  \\\n",
              "5737   Makeup Remover Pads Reusable, Voerou 12 Pack B...   \n",
              "10157  20 PCS Reusable Makeup Remover Pads, Soft Wash...   \n",
              "12698  Asenappy Reusable Makeup Remover Pads| 16 Pack...   \n",
              "3165   HOPOSO Reusable Cotton Pads Face Zero Waste 12...   \n",
              "9865   Andrea Eye Q's Moisturizing Eye Make-up Remove...   \n",
              "\n",
              "                                                 details  similarity_score  \n",
              "5737   {'Brand': 'Voerou', 'Material Feature': 'Reusa...          0.495056  \n",
              "10157  {'Brand': 'Senders', 'Material': 'Cotton', 'Sh...          0.483342  \n",
              "12698  {'Is Discontinued By Manufacturer': 'No', 'Pro...          0.417880  \n",
              "3165   {'Brand': 'HOPOSO', 'Material': 'Cotton', 'Sha...          0.327312  \n",
              "9865   {'Product Dimensions': '4 x 2 x 1 inches; 2.89...          0.308743  "
            ]
          },
          "execution_count": 14,
          "metadata": {},
          "output_type": "execute_result"
        }
      ],
      "source": [
        "recommended.head(6)"
      ]
    },
    {
      "cell_type": "markdown",
      "metadata": {
        "id": "TW2k7jSSB4Tf"
      },
      "source": []
    },
    {
      "cell_type": "code",
      "execution_count": 15,
      "metadata": {
        "colab": {
          "base_uri": "https://localhost:8080/",
          "height": 487
        },
        "id": "FVWjrITcB54h",
        "outputId": "6d556ee3-eef8-4f42-acb4-9894d5396be8"
      },
      "outputs": [
        {
          "data": {
            "image/png": "[encoded data removed]",
            "text/plain": [
              "<Figure size 700x500 with 1 Axes>"
            ]
          },
          "metadata": {},
          "output_type": "display_data"
        }
      ],
      "source": [
        "# A) Rastgele 100 ürünün ortalama Top-5 benzerlik skorlarını inceleme\n",
        "random_indices = random.sample(range(len(df)), 100)\n",
        "avg_similarities = []\n",
        "for idx in random_indices:\n",
        "    recs = get_recommendations(idx, top_n=5)\n",
        "    avg_sim = recs[\"similarity_score\"].mean()\n",
        "    avg_similarities.append(avg_sim)\n",
        "\n",
        "plt.figure(figsize=(7, 5))\n",
        "plt.hist(avg_similarities, bins=10, edgecolor='black')\n",
        "plt.title(\"Distribution of Average Top-5 Similarity (Sample of 100 items)\")\n",
        "plt.xlabel(\"Average Similarity Score\")\n",
        "plt.ylabel(\"Frequency\")\n",
        "plt.show()"
      ]
    },
    {
      "cell_type": "code",
      "execution_count": 16,
      "metadata": {
        "colab": {
          "base_uri": "https://localhost:8080/",
          "height": 762
        },
        "id": "KgC4qLKYB5tn",
        "outputId": "ba657ab9-2272-41e3-e1b1-2fa5b14f7ec8"
      },
      "outputs": [
        {
          "data": {
            "image/png": "[encoded data removed]",
            "text/plain": [
              "<Figure size 640x480 with 1 Axes>"
            ]
          },
          "metadata": {},
          "output_type": "display_data"
        },
        {
          "name": "stdout",
          "output_type": "stream",
          "text": [
            "\n",
            "Seçilen Ürün: Makeup Remover Pads, 14 Pack Reusable Bamboo Soft Face Clean Pads Facial Skin Care Wash Cleansing Pads with Laundry Bag and Cosmetic Bag, Assorted Colors\n",
            "Önerilen Ürünler ve Skorlar:\n",
            "                                                    title  \\\n",
            "5737   Makeup Remover Pads Reusable, Voerou 12 Pack B...   \n",
            "10157  20 PCS Reusable Makeup Remover Pads, Soft Wash...   \n",
            "12698  Asenappy Reusable Makeup Remover Pads| 16 Pack...   \n",
            "3165   HOPOSO Reusable Cotton Pads Face Zero Waste 12...   \n",
            "9865   Andrea Eye Q's Moisturizing Eye Make-up Remove...   \n",
            "\n",
            "                                                 details  similarity_score  \n",
            "5737   {'Brand': 'Voerou', 'Material Feature': 'Reusa...          0.495056  \n",
            "10157  {'Brand': 'Senders', 'Material': 'Cotton', 'Sh...          0.483342  \n",
            "12698  {'Is Discontinued By Manufacturer': 'No', 'Pro...          0.417880  \n",
            "3165   {'Brand': 'HOPOSO', 'Material': 'Cotton', 'Sha...          0.327312  \n",
            "9865   {'Product Dimensions': '4 x 2 x 1 inches; 2.89...          0.308743  \n"
          ]
        }
      ],
      "source": [
        "# B) Seçilen ürünün Top-5 benzerlik skorlarını bar grafikte göster\n",
        "recs = get_recommendations(product_idx, top_n=5)\n",
        "plt.figure()\n",
        "plt.bar(range(len(recs)), recs[\"similarity_score\"])\n",
        "plt.title(\"Top-5 Benzer Ürünler ve Benzerlik Skorları\")\n",
        "plt.xlabel(\"Önerilen Ürün Sırası (dataframe içi)\")\n",
        "plt.ylabel(\"Benzerlik Skoru\")\n",
        "plt.show()\n",
        "\n",
        "print(\"\\nSeçilen Ürün:\", df.iloc[product_idx][\"title\"])\n",
        "print(\"Önerilen Ürünler ve Skorlar:\\n\", recs)"
      ]
    },
    {
      "cell_type": "code",
      "execution_count": 17,
      "metadata": {
        "colab": {
          "base_uri": "https://localhost:8080/",
          "height": 487
        },
        "id": "a-buMzCICeKv",
        "outputId": "0471867c-2ac3-471c-d38a-ae0a2d4025bb"
      },
      "outputs": [
        {
          "data": {
            "image/png": "[encoded data removed]",
            "text/plain": [
              "<Figure size 700x500 with 1 Axes>"
            ]
          },
          "metadata": {},
          "output_type": "display_data"
        }
      ],
      "source": [
        "# C) Rastgele 100 ürünlük alt matrisle benzerlik dağılımı ve heatmap\n",
        "sample_indices = np.random.choice(df.shape[0], size=100, replace=False)\n",
        "sample_indices = sorted(sample_indices)\n",
        "similarity_submatrix = similarity_matrix[sample_indices, :][:, sample_indices]\n",
        "\n",
        "# Üst üçgeni alarak histogram\n",
        "triu_indices = np.triu_indices_from(similarity_submatrix, k=1)\n",
        "similarities = similarity_submatrix[triu_indices]\n",
        "\n",
        "plt.figure(figsize=(7, 5))\n",
        "plt.hist(similarities, bins=30, edgecolor='black')\n",
        "plt.title(\"Distribution of Cosine Similarities (Random 100 items)\")\n",
        "plt.xlabel(\"Similarity Score\")\n",
        "plt.ylabel(\"Frequency\")\n",
        "plt.show()\n",
        "\n"
      ]
    },
    {
      "cell_type": "code",
      "execution_count": 18,
      "metadata": {
        "colab": {
          "base_uri": "https://localhost:8080/",
          "height": 564
        },
        "id": "O9WmUTz4CiTm",
        "outputId": "38d16447-fea6-4186-b99a-5e546059ed7f"
      },
      "outputs": [
        {
          "data": {
            "image/png": "[encoded data removed]",
            "text/plain": [
              "<Figure size 800x600 with 2 Axes>"
            ]
          },
          "metadata": {},
          "output_type": "display_data"
        }
      ],
      "source": [
        "plt.figure(figsize=(8, 6))\n",
        "plt.imshow(similarity_submatrix, cmap='viridis', aspect='auto')\n",
        "plt.colorbar(label=\"Cosine Similarity\")\n",
        "plt.title(\"Cosine Similarity Heatmap (Random 100 items)\")\n",
        "plt.xlabel(\"Item Index in Sample\")\n",
        "plt.ylabel(\"Item Index in Sample\")\n",
        "plt.show()"
      ]
    },
    {
      "cell_type": "code",
      "execution_count": 19,
      "metadata": {
        "colab": {
          "base_uri": "https://localhost:8080/",
          "height": 902
        },
        "id": "kl69_yGlCknr",
        "outputId": "c83bb595-9343-4495-9ff1-93350b10d979"
      },
      "outputs": [
        {
          "data": {
            "image/png": "[encoded data removed]",
            "text/plain": [
              "<Figure size 1000x500 with 1 Axes>"
            ]
          },
          "metadata": {},
          "output_type": "display_data"
        },
        {
          "name": "stdout",
          "output_type": "stream",
          "text": [
            "\n",
            "Ürün #5 için Top-20 en benzer ürünler:\n",
            "1. Skor: 0.495, Başlık: Makeup Remover Pads Reusable, Voerou 12 Pack Bamboo Facial Toner pads Cleansing Towel Wipes Cloth Washable Cotton Round pads with Laundry Bag, Chemical Free, 4 Color\n",
            "2. Skor: 0.483, Başlık: 20 PCS Reusable Makeup Remover Pads, Soft Washable Bamboo Cotton Face Cleansing Pads with Laundry Bag Eco-friendly for All Skin Types\n",
            "3. Skor: 0.418, Başlık: Asenappy Reusable Makeup Remover Pads| 16 Pack with Laundry Bag | Bamboo Cotton | Eco-friendly | Waste Free | Luxury (bamboo cotton)\n",
            "4. Skor: 0.327, Başlık: HOPOSO Reusable Cotton Pads Face Zero Waste 12 Pack Cotton Rounds Eye Makeup Remover Cloth Washable Cleansing Wipes Eco-friendly Bamboo Organic Cotton Rounds with Laundry Bag and Makeup Sponge\n",
            "5. Skor: 0.309, Başlık: Andrea Eye Q's Moisturizing Eye Make-up Remover Pads\n",
            "6. Skor: 0.296, Başlık: Cosmetic Bag, HOZMLIFE Lovely Transparent Waterproof Make Up Bag, Portable Large Capacity Cosmetic Bag Storage Bag Travel Wash Bag for women (pink&green)\n",
            "7. Skor: 0.296, Başlık: Purederm Vitamin C Facial Pads 24 Pads\n",
            "8. Skor: 0.275, Başlık: VNDEFUL 5Pcs Colorful Oval Sponge Facial Washing Cleansing Pads, Wash Face Sponge Facial Cleansing Fashion Makeup Tools\n",
            "9. Skor: 0.250, Başlık: One Out of The Bag\n",
            "10. Skor: 0.249, Başlık: LORYP Makeup Brush Sets -13pcs Cosmetic Brushes Set For Lady -Free Reusable Makeup Remover Pads For More Convenient And Quick Makeup Removal-Best Gift for Sisters,Girlfriend,Wife and Daughter (Pink)\n",
            "11. Skor: 0.239, Başlık: Reusable Bamboo Drinking Straws - 9 inches Long - 4 Pack - Colors and Straw Widths Vary - Comes with 2 Bonus Cleaning Brushes\n",
            "12. Skor: 0.227, Başlık: Bamboo Trading Company RHBASST116 Autumn Floral Head Wrap, 1 pc\n",
            "13. Skor: 0.224, Başlık: BOHO AROMATIC | Rose Flower Micellar Cleansing Pads | Vegan Micellar Cleansing Wipes for Face | Removes Dirt & Makeup | Adds Hydration | Aromatic Natural & Organic Rose Water Micellar Pads | Facial skin care products 50 CT\n",
            "14. Skor: 0.212, Başlık: CCS Red Wax/Sealant Applicator Pads\n",
            "15. Skor: 0.211, Başlık: Kimoli Funny Canvas Makeup Bag | Cosmetic Bag | Cute Pouch Purse | Toiletry Bags with Sayings\n",
            "16. Skor: 0.202, Başlık: Makeup Cotton Pads Remover Cotton Pads for Face Hypoallergenic Nail Lint Free Wipes Beauty Pure Cotton Square Pads 120 Pcs\n",
            "17. Skor: 0.198, Başlık: Theorie Marula Oil Transforming .34oz\n",
            "18. Skor: 0.193, Başlık: Mystical Makeup Remover Cloth - Canary | Reusable Facial Cleansing Towel | Soft Award Winning Hydro Microbfiber Cloth\n",
            "19. Skor: 0.192, Başlık: Hatop Double Layer Cosmetic Bag Travel Toiletry Makeup Bag (Hot Pink)\n",
            "20. Skor: 0.192, Başlık: 12 Pieces Face Wash Cloth Microfiber Makeup Remover Cloths Reusable Wash Cloth Facial Cleansing Towel Soft Face Washcloth for Face, 10 x 10 Inch (Beige, Pink)\n"
          ]
        }
      ],
      "source": [
        "# D) Tek Bir Ürün İçin Top-20 Benzerlik Skorunu Bar Grafikte Göster\n",
        "product_idx = 5\n",
        "top_n = 20\n",
        "recs_20 = get_recommendations(product_idx, top_n=top_n)\n",
        "\n",
        "scores = recs_20[\"similarity_score\"].values\n",
        "titles = recs_20[\"title\"].values\n",
        "\n",
        "plt.figure(figsize=(10, 5))\n",
        "plt.bar(range(top_n), scores)\n",
        "plt.title(f\"Top-{top_n} En Benzer Ürünler - Ürün #{product_idx}\")\n",
        "plt.xlabel(\"Sıra\")\n",
        "plt.ylabel(\"Benzerlik Skoru\")\n",
        "plt.show()\n",
        "\n",
        "print(f\"\\nÜrün #{product_idx} için Top-{top_n} en benzer ürünler:\")\n",
        "for i, (title, sc) in enumerate(zip(titles, scores)):\n",
        "    print(f\"{i+1}. Skor: {sc:.3f}, Başlık: {title}\")"
      ]
    }
  ],
  "metadata": {
    "colab": {
      "provenance": []
    },
    "kernelspec": {
      "display_name": "Python 3",
      "name": "python3"
    },
    "language_info": {
      "name": "python"
    }
  },
  "nbformat": 4,
  "nbformat_minor": 0
}
